{
 "cells": [
  {
   "cell_type": "code",
   "execution_count": null,
   "id": "e7a064bd",
   "metadata": {
    "vscode": {
     "languageId": "r"
    }
   },
   "outputs": [
    {
     "name": "stderr",
     "output_type": "stream",
     "text": [
      "Instalando pacote em 'C:/Users/felip/AppData/Local/R/win-library/4.5'\n",
      "(como 'lib' não foi especificado)\n",
      "\n"
     ]
    },
    {
     "name": "stdout",
     "output_type": "stream",
     "text": [
      "pacote 'openxlsx' desempacotado com sucesso e somas MD5 verificadas\n"
     ]
    },
    {
     "name": "stderr",
     "output_type": "stream",
     "text": [
      "Warning message:\n",
      "\"não foi possível remover a instalação prévia do pacote 'openxlsx'\"\n",
      "Warning message in file.copy(savedcopy, lib, recursive = TRUE):\n",
      "\"problem copying C:\\Users\\felip\\AppData\\Local\\R\\win-library\\4.5\\00LOCK\\openxlsx\\libs\\x64\\openxlsx.dll to C:\\Users\\felip\\AppData\\Local\\R\\win-library\\4.5\\openxlsx\\libs\\x64\\openxlsx.dll: Permission denied\"\n",
      "Warning message:\n",
      "\"'openxlsx' restaurado\"\n"
     ]
    },
    {
     "name": "stdout",
     "output_type": "stream",
     "text": [
      "\n",
      "Os pacotes binários baixados estão em\n",
      "\tC:\\Users\\felip\\AppData\\Local\\Temp\\Rtmpwv7BQL\\downloaded_packages\n"
     ]
    },
    {
     "name": "stderr",
     "output_type": "stream",
     "text": [
      "Instalando pacote em 'C:/Users/felip/AppData/Local/R/win-library/4.5'\n",
      "(como 'lib' não foi especificado)\n",
      "\n"
     ]
    },
    {
     "name": "stdout",
     "output_type": "stream",
     "text": [
      "pacote 'tidyverse' desempacotado com sucesso e somas MD5 verificadas\n",
      "\n",
      "Os pacotes binários baixados estão em\n",
      "\tC:\\Users\\felip\\AppData\\Local\\Temp\\Rtmpwv7BQL\\downloaded_packages\n"
     ]
    },
    {
     "name": "stderr",
     "output_type": "stream",
     "text": [
      "── \u001b[1mAttaching core tidyverse packages\u001b[22m ──────────────────────── tidyverse 2.0.0 ──\n",
      "\u001b[32m✔\u001b[39m \u001b[34mdplyr    \u001b[39m 1.1.4     \u001b[32m✔\u001b[39m \u001b[34mreadr    \u001b[39m 2.1.5\n",
      "\u001b[32m✔\u001b[39m \u001b[34mforcats  \u001b[39m 1.0.0     \u001b[32m✔\u001b[39m \u001b[34mstringr  \u001b[39m 1.5.1\n",
      "\u001b[32m✔\u001b[39m \u001b[34mggplot2  \u001b[39m 3.5.2     \u001b[32m✔\u001b[39m \u001b[34mtibble   \u001b[39m 3.3.0\n",
      "\u001b[32m✔\u001b[39m \u001b[34mlubridate\u001b[39m 1.9.4     \u001b[32m✔\u001b[39m \u001b[34mtidyr    \u001b[39m 1.3.1\n",
      "\u001b[32m✔\u001b[39m \u001b[34mpurrr    \u001b[39m 1.1.0     \n",
      "── \u001b[1mConflicts\u001b[22m ────────────────────────────────────────── tidyverse_conflicts() ──\n",
      "\u001b[31m✖\u001b[39m \u001b[34mdplyr\u001b[39m::\u001b[32mfilter()\u001b[39m masks \u001b[34mstats\u001b[39m::filter()\n",
      "\u001b[31m✖\u001b[39m \u001b[34mdplyr\u001b[39m::\u001b[32mlag()\u001b[39m    masks \u001b[34mstats\u001b[39m::lag()\n",
      "\u001b[36mℹ\u001b[39m Use the conflicted package (\u001b[3m\u001b[34m<http://conflicted.r-lib.org/>\u001b[39m\u001b[23m) to force all conflicts to become errors\n",
      "Instalando pacote em 'C:/Users/felip/AppData/Local/R/win-library/4.5'\n",
      "(como 'lib' não foi especificado)\n",
      "\n"
     ]
    },
    {
     "name": "stdout",
     "output_type": "stream",
     "text": [
      "pacote 'remotes' desempacotado com sucesso e somas MD5 verificadas\n",
      "\n",
      "Os pacotes binários baixados estão em\n",
      "\tC:\\Users\\felip\\AppData\\Local\\Temp\\Rtmpwv7BQL\\downloaded_packages\n"
     ]
    },
    {
     "name": "stderr",
     "output_type": "stream",
     "text": [
      "Instalando pacote em 'C:/Users/felip/AppData/Local/R/win-library/4.5'\n",
      "(como 'lib' não foi especificado)\n",
      "\n"
     ]
    },
    {
     "name": "stdout",
     "output_type": "stream",
     "text": [
      "pacote 'devtools' desempacotado com sucesso e somas MD5 verificadas\n",
      "\n",
      "Os pacotes binários baixados estão em\n",
      "\tC:\\Users\\felip\\AppData\\Local\\Temp\\Rtmpwv7BQL\\downloaded_packages\n"
     ]
    },
    {
     "name": "stderr",
     "output_type": "stream",
     "text": [
      "Carregando pacotes exigidos: usethis\n",
      "\n",
      "\n",
      "Anexando pacote: 'devtools'\n",
      "\n",
      "\n",
      "Os seguintes objetos são mascarados por 'package:remotes':\n",
      "\n",
      "    dev_package_deps, install_bioc, install_bitbucket, install_cran,\n",
      "    install_deps, install_dev, install_git, install_github,\n",
      "    install_gitlab, install_local, install_svn, install_url,\n",
      "    install_version, update_packages\n",
      "\n",
      "\n"
     ]
    }
   ],
   "source": [
    "# instalando pacotes\n",
    "install.packages(\"openxlsx\")\n",
    "library(openxlsx)\n",
    "install.packages(\"tidyverse\")\n",
    "library(tidyverse)\n",
    "install.packages(\"remotes\")\n",
    "library(remotes)\n",
    "install.packages(\"devtools\")\n",
    "library(devtools)"
   ]
  },
  {
   "cell_type": "code",
   "execution_count": 2,
   "id": "21b18546",
   "metadata": {
    "vscode": {
     "languageId": "r"
    }
   },
   "outputs": [
    {
     "name": "stderr",
     "output_type": "stream",
     "text": [
      "Skipping install of 'microdatasus' from a github remote, the SHA1 (400b82f0) has not changed since last install.\n",
      "  Use `force = TRUE` to force installation\n",
      "\n",
      "Skipping install of 'microdatasus' from a github remote, the SHA1 (400b82f0) has not changed since last install.\n",
      "  Use `force = TRUE` to force installation\n",
      "\n"
     ]
    }
   ],
   "source": [
    "#### microdatasusc\n",
    "remotes::install_github(\"rfsaldanha/microdatasus\")\n",
    "# ou\n",
    "devtools::install_github(\"rfsaldanha/microdatasus\")\n",
    "library(microdatasus)"
   ]
  },
  {
   "cell_type": "code",
   "execution_count": 3,
   "id": "7e8fb6fd",
   "metadata": {
    "vscode": {
     "languageId": "r"
    }
   },
   "outputs": [
    {
     "name": "stderr",
     "output_type": "stream",
     "text": [
      "\u001b[36mℹ\u001b[39m Your local Internet connection seems to be ok.\n",
      "\n"
     ]
    },
    {
     "name": "stderr",
     "output_type": "stream",
     "text": [
      "\u001b[36mℹ\u001b[39m DataSUS FTP server seems to be up and reachable.\n",
      "\n",
      "\u001b[36mℹ\u001b[39m Starting download...\n",
      "\n"
     ]
    }
   ],
   "source": [
    "### usar funcao fetch_datasus\n",
    "DENGUE_19_23_bruto <- microdatasus::fetch_datasus(year_start = 2019, year_end = 2023, information_system = \"SINAN-DENGUE\")"
   ]
  },
  {
   "cell_type": "code",
   "execution_count": 4,
   "id": "16ce11b2",
   "metadata": {
    "vscode": {
     "languageId": "r"
    }
   },
   "outputs": [],
   "source": [
    "### usar funcao process\n",
    "dengue <- microdatasus::process_sih(DENGUE_19_23_bruto, municipality_data = TRUE)"
   ]
  },
  {
   "cell_type": "code",
   "execution_count": 6,
   "id": "e4d9ba30",
   "metadata": {
    "vscode": {
     "languageId": "r"
    }
   },
   "outputs": [
    {
     "data": {
      "text/html": [
       "<style>\n",
       ".list-inline {list-style: none; margin:0; padding: 0}\n",
       ".list-inline>li {display: inline-block}\n",
       ".list-inline>li:not(:last-child)::after {content: \"\\00b7\"; padding: 0 .5ex}\n",
       "</style>\n",
       "<ol class=list-inline><li>'TP_NOT'</li><li>'ID_AGRAVO'</li><li>'DT_NOTIFIC'</li><li>'SEM_NOT'</li><li>'NU_ANO'</li><li>'SG_UF_NOT'</li><li>'ID_MUNICIP'</li><li>'ID_REGIONA'</li><li>'ID_UNIDADE'</li><li>'DT_SIN_PRI'</li><li>'SEM_PRI'</li><li>'DT_NASC'</li><li>'NU_IDADE_N'</li><li>'CS_SEXO'</li><li>'CS_GESTANT'</li><li>'CS_RACA'</li><li>'CS_ESCOL_N'</li><li>'SG_UF'</li><li>'ID_MN_RESI'</li><li>'ID_RG_RESI'</li><li>'ID_PAIS'</li><li>'DT_INVEST'</li><li>'ID_OCUPA_N'</li><li>'FEBRE'</li><li>'MIALGIA'</li><li>'CEFALEIA'</li><li>'EXANTEMA'</li><li>'VOMITO'</li><li>'NAUSEA'</li><li>'DOR_COSTAS'</li><li>'CONJUNTVIT'</li><li>'ARTRITE'</li><li>'ARTRALGIA'</li><li>'PETEQUIA_N'</li><li>'LEUCOPENIA'</li><li>'LACO'</li><li>'DOR_RETRO'</li><li>'DIABETES'</li><li>'HEMATOLOG'</li><li>'HEPATOPAT'</li><li>'RENAL'</li><li>'HIPERTENSA'</li><li>'ACIDO_PEPT'</li><li>'AUTO_IMUNE'</li><li>'DT_CHIK_S1'</li><li>'DT_CHIK_S2'</li><li>'DT_PRNT'</li><li>'RES_CHIKS1'</li><li>'RES_CHIKS2'</li><li>'RESUL_PRNT'</li><li>'DT_SORO'</li><li>'RESUL_SORO'</li><li>'DT_NS1'</li><li>'RESUL_NS1'</li><li>'DT_VIRAL'</li><li>'RESUL_VI_N'</li><li>'DT_PCR'</li><li>'RESUL_PCR_'</li><li>'SOROTIPO'</li><li>'HISTOPA_N'</li><li>'IMUNOH_N'</li><li>'HOSPITALIZ'</li><li>'DT_INTERNA'</li><li>'UF'</li><li>'MUNICIPIO'</li><li>'TPAUTOCTO'</li><li>'COUFINF'</li><li>'COPAISINF'</li><li>'COMUNINF'</li><li>'CLASSI_FIN'</li><li>'CRITERIO'</li><li>'DOENCA_TRA'</li><li>'CLINC_CHIK'</li><li>'EVOLUCAO'</li><li>'DT_OBITO'</li><li>'DT_ENCERRA'</li><li>'ALRM_HIPOT'</li><li>'ALRM_PLAQ'</li><li>'ALRM_VOM'</li><li>'ALRM_SANG'</li><li>'ALRM_HEMAT'</li><li>'ALRM_ABDOM'</li><li>'ALRM_LETAR'</li><li>'ALRM_HEPAT'</li><li>'ALRM_LIQ'</li><li>'DT_ALRM'</li><li>'GRAV_PULSO'</li><li>'GRAV_CONV'</li><li>'GRAV_ENCH'</li><li>'GRAV_INSUF'</li><li>'GRAV_TAQUI'</li><li>'GRAV_EXTRE'</li><li>'GRAV_HIPOT'</li><li>'GRAV_HEMAT'</li><li>'GRAV_MELEN'</li><li>'GRAV_METRO'</li><li>'GRAV_SANG'</li><li>'GRAV_AST'</li><li>'GRAV_MIOC'</li><li>'GRAV_CONSC'</li><li>'GRAV_ORGAO'</li><li>'DT_GRAV'</li><li>'MANI_HEMOR'</li><li>'EPISTAXE'</li><li>'GENGIVO'</li><li>'METRO'</li><li>'PETEQUIAS'</li><li>'HEMATURA'</li><li>'SANGRAM'</li><li>'LACO_N'</li><li>'PLASMATICO'</li><li>'EVIDENCIA'</li><li>'PLAQ_MENOR'</li><li>'CON_FHD'</li><li>'COMPLICA'</li><li>'TP_SISTEMA'</li><li>'NDUPLIC_N'</li><li>'CS_FLXRET'</li><li>'FLXRECEBI'</li><li>'ANO_NASC'</li><li>'DT_DIGITA'</li><li>'MIGRADO_W'</li></ol>\n"
      ],
      "text/latex": [
       "\\begin{enumerate*}\n",
       "\\item 'TP\\_NOT'\n",
       "\\item 'ID\\_AGRAVO'\n",
       "\\item 'DT\\_NOTIFIC'\n",
       "\\item 'SEM\\_NOT'\n",
       "\\item 'NU\\_ANO'\n",
       "\\item 'SG\\_UF\\_NOT'\n",
       "\\item 'ID\\_MUNICIP'\n",
       "\\item 'ID\\_REGIONA'\n",
       "\\item 'ID\\_UNIDADE'\n",
       "\\item 'DT\\_SIN\\_PRI'\n",
       "\\item 'SEM\\_PRI'\n",
       "\\item 'DT\\_NASC'\n",
       "\\item 'NU\\_IDADE\\_N'\n",
       "\\item 'CS\\_SEXO'\n",
       "\\item 'CS\\_GESTANT'\n",
       "\\item 'CS\\_RACA'\n",
       "\\item 'CS\\_ESCOL\\_N'\n",
       "\\item 'SG\\_UF'\n",
       "\\item 'ID\\_MN\\_RESI'\n",
       "\\item 'ID\\_RG\\_RESI'\n",
       "\\item 'ID\\_PAIS'\n",
       "\\item 'DT\\_INVEST'\n",
       "\\item 'ID\\_OCUPA\\_N'\n",
       "\\item 'FEBRE'\n",
       "\\item 'MIALGIA'\n",
       "\\item 'CEFALEIA'\n",
       "\\item 'EXANTEMA'\n",
       "\\item 'VOMITO'\n",
       "\\item 'NAUSEA'\n",
       "\\item 'DOR\\_COSTAS'\n",
       "\\item 'CONJUNTVIT'\n",
       "\\item 'ARTRITE'\n",
       "\\item 'ARTRALGIA'\n",
       "\\item 'PETEQUIA\\_N'\n",
       "\\item 'LEUCOPENIA'\n",
       "\\item 'LACO'\n",
       "\\item 'DOR\\_RETRO'\n",
       "\\item 'DIABETES'\n",
       "\\item 'HEMATOLOG'\n",
       "\\item 'HEPATOPAT'\n",
       "\\item 'RENAL'\n",
       "\\item 'HIPERTENSA'\n",
       "\\item 'ACIDO\\_PEPT'\n",
       "\\item 'AUTO\\_IMUNE'\n",
       "\\item 'DT\\_CHIK\\_S1'\n",
       "\\item 'DT\\_CHIK\\_S2'\n",
       "\\item 'DT\\_PRNT'\n",
       "\\item 'RES\\_CHIKS1'\n",
       "\\item 'RES\\_CHIKS2'\n",
       "\\item 'RESUL\\_PRNT'\n",
       "\\item 'DT\\_SORO'\n",
       "\\item 'RESUL\\_SORO'\n",
       "\\item 'DT\\_NS1'\n",
       "\\item 'RESUL\\_NS1'\n",
       "\\item 'DT\\_VIRAL'\n",
       "\\item 'RESUL\\_VI\\_N'\n",
       "\\item 'DT\\_PCR'\n",
       "\\item 'RESUL\\_PCR\\_'\n",
       "\\item 'SOROTIPO'\n",
       "\\item 'HISTOPA\\_N'\n",
       "\\item 'IMUNOH\\_N'\n",
       "\\item 'HOSPITALIZ'\n",
       "\\item 'DT\\_INTERNA'\n",
       "\\item 'UF'\n",
       "\\item 'MUNICIPIO'\n",
       "\\item 'TPAUTOCTO'\n",
       "\\item 'COUFINF'\n",
       "\\item 'COPAISINF'\n",
       "\\item 'COMUNINF'\n",
       "\\item 'CLASSI\\_FIN'\n",
       "\\item 'CRITERIO'\n",
       "\\item 'DOENCA\\_TRA'\n",
       "\\item 'CLINC\\_CHIK'\n",
       "\\item 'EVOLUCAO'\n",
       "\\item 'DT\\_OBITO'\n",
       "\\item 'DT\\_ENCERRA'\n",
       "\\item 'ALRM\\_HIPOT'\n",
       "\\item 'ALRM\\_PLAQ'\n",
       "\\item 'ALRM\\_VOM'\n",
       "\\item 'ALRM\\_SANG'\n",
       "\\item 'ALRM\\_HEMAT'\n",
       "\\item 'ALRM\\_ABDOM'\n",
       "\\item 'ALRM\\_LETAR'\n",
       "\\item 'ALRM\\_HEPAT'\n",
       "\\item 'ALRM\\_LIQ'\n",
       "\\item 'DT\\_ALRM'\n",
       "\\item 'GRAV\\_PULSO'\n",
       "\\item 'GRAV\\_CONV'\n",
       "\\item 'GRAV\\_ENCH'\n",
       "\\item 'GRAV\\_INSUF'\n",
       "\\item 'GRAV\\_TAQUI'\n",
       "\\item 'GRAV\\_EXTRE'\n",
       "\\item 'GRAV\\_HIPOT'\n",
       "\\item 'GRAV\\_HEMAT'\n",
       "\\item 'GRAV\\_MELEN'\n",
       "\\item 'GRAV\\_METRO'\n",
       "\\item 'GRAV\\_SANG'\n",
       "\\item 'GRAV\\_AST'\n",
       "\\item 'GRAV\\_MIOC'\n",
       "\\item 'GRAV\\_CONSC'\n",
       "\\item 'GRAV\\_ORGAO'\n",
       "\\item 'DT\\_GRAV'\n",
       "\\item 'MANI\\_HEMOR'\n",
       "\\item 'EPISTAXE'\n",
       "\\item 'GENGIVO'\n",
       "\\item 'METRO'\n",
       "\\item 'PETEQUIAS'\n",
       "\\item 'HEMATURA'\n",
       "\\item 'SANGRAM'\n",
       "\\item 'LACO\\_N'\n",
       "\\item 'PLASMATICO'\n",
       "\\item 'EVIDENCIA'\n",
       "\\item 'PLAQ\\_MENOR'\n",
       "\\item 'CON\\_FHD'\n",
       "\\item 'COMPLICA'\n",
       "\\item 'TP\\_SISTEMA'\n",
       "\\item 'NDUPLIC\\_N'\n",
       "\\item 'CS\\_FLXRET'\n",
       "\\item 'FLXRECEBI'\n",
       "\\item 'ANO\\_NASC'\n",
       "\\item 'DT\\_DIGITA'\n",
       "\\item 'MIGRADO\\_W'\n",
       "\\end{enumerate*}\n"
      ],
      "text/markdown": [
       "1. 'TP_NOT'\n",
       "2. 'ID_AGRAVO'\n",
       "3. 'DT_NOTIFIC'\n",
       "4. 'SEM_NOT'\n",
       "5. 'NU_ANO'\n",
       "6. 'SG_UF_NOT'\n",
       "7. 'ID_MUNICIP'\n",
       "8. 'ID_REGIONA'\n",
       "9. 'ID_UNIDADE'\n",
       "10. 'DT_SIN_PRI'\n",
       "11. 'SEM_PRI'\n",
       "12. 'DT_NASC'\n",
       "13. 'NU_IDADE_N'\n",
       "14. 'CS_SEXO'\n",
       "15. 'CS_GESTANT'\n",
       "16. 'CS_RACA'\n",
       "17. 'CS_ESCOL_N'\n",
       "18. 'SG_UF'\n",
       "19. 'ID_MN_RESI'\n",
       "20. 'ID_RG_RESI'\n",
       "21. 'ID_PAIS'\n",
       "22. 'DT_INVEST'\n",
       "23. 'ID_OCUPA_N'\n",
       "24. 'FEBRE'\n",
       "25. 'MIALGIA'\n",
       "26. 'CEFALEIA'\n",
       "27. 'EXANTEMA'\n",
       "28. 'VOMITO'\n",
       "29. 'NAUSEA'\n",
       "30. 'DOR_COSTAS'\n",
       "31. 'CONJUNTVIT'\n",
       "32. 'ARTRITE'\n",
       "33. 'ARTRALGIA'\n",
       "34. 'PETEQUIA_N'\n",
       "35. 'LEUCOPENIA'\n",
       "36. 'LACO'\n",
       "37. 'DOR_RETRO'\n",
       "38. 'DIABETES'\n",
       "39. 'HEMATOLOG'\n",
       "40. 'HEPATOPAT'\n",
       "41. 'RENAL'\n",
       "42. 'HIPERTENSA'\n",
       "43. 'ACIDO_PEPT'\n",
       "44. 'AUTO_IMUNE'\n",
       "45. 'DT_CHIK_S1'\n",
       "46. 'DT_CHIK_S2'\n",
       "47. 'DT_PRNT'\n",
       "48. 'RES_CHIKS1'\n",
       "49. 'RES_CHIKS2'\n",
       "50. 'RESUL_PRNT'\n",
       "51. 'DT_SORO'\n",
       "52. 'RESUL_SORO'\n",
       "53. 'DT_NS1'\n",
       "54. 'RESUL_NS1'\n",
       "55. 'DT_VIRAL'\n",
       "56. 'RESUL_VI_N'\n",
       "57. 'DT_PCR'\n",
       "58. 'RESUL_PCR_'\n",
       "59. 'SOROTIPO'\n",
       "60. 'HISTOPA_N'\n",
       "61. 'IMUNOH_N'\n",
       "62. 'HOSPITALIZ'\n",
       "63. 'DT_INTERNA'\n",
       "64. 'UF'\n",
       "65. 'MUNICIPIO'\n",
       "66. 'TPAUTOCTO'\n",
       "67. 'COUFINF'\n",
       "68. 'COPAISINF'\n",
       "69. 'COMUNINF'\n",
       "70. 'CLASSI_FIN'\n",
       "71. 'CRITERIO'\n",
       "72. 'DOENCA_TRA'\n",
       "73. 'CLINC_CHIK'\n",
       "74. 'EVOLUCAO'\n",
       "75. 'DT_OBITO'\n",
       "76. 'DT_ENCERRA'\n",
       "77. 'ALRM_HIPOT'\n",
       "78. 'ALRM_PLAQ'\n",
       "79. 'ALRM_VOM'\n",
       "80. 'ALRM_SANG'\n",
       "81. 'ALRM_HEMAT'\n",
       "82. 'ALRM_ABDOM'\n",
       "83. 'ALRM_LETAR'\n",
       "84. 'ALRM_HEPAT'\n",
       "85. 'ALRM_LIQ'\n",
       "86. 'DT_ALRM'\n",
       "87. 'GRAV_PULSO'\n",
       "88. 'GRAV_CONV'\n",
       "89. 'GRAV_ENCH'\n",
       "90. 'GRAV_INSUF'\n",
       "91. 'GRAV_TAQUI'\n",
       "92. 'GRAV_EXTRE'\n",
       "93. 'GRAV_HIPOT'\n",
       "94. 'GRAV_HEMAT'\n",
       "95. 'GRAV_MELEN'\n",
       "96. 'GRAV_METRO'\n",
       "97. 'GRAV_SANG'\n",
       "98. 'GRAV_AST'\n",
       "99. 'GRAV_MIOC'\n",
       "100. 'GRAV_CONSC'\n",
       "101. 'GRAV_ORGAO'\n",
       "102. 'DT_GRAV'\n",
       "103. 'MANI_HEMOR'\n",
       "104. 'EPISTAXE'\n",
       "105. 'GENGIVO'\n",
       "106. 'METRO'\n",
       "107. 'PETEQUIAS'\n",
       "108. 'HEMATURA'\n",
       "109. 'SANGRAM'\n",
       "110. 'LACO_N'\n",
       "111. 'PLASMATICO'\n",
       "112. 'EVIDENCIA'\n",
       "113. 'PLAQ_MENOR'\n",
       "114. 'CON_FHD'\n",
       "115. 'COMPLICA'\n",
       "116. 'TP_SISTEMA'\n",
       "117. 'NDUPLIC_N'\n",
       "118. 'CS_FLXRET'\n",
       "119. 'FLXRECEBI'\n",
       "120. 'ANO_NASC'\n",
       "121. 'DT_DIGITA'\n",
       "122. 'MIGRADO_W'\n",
       "\n",
       "\n"
      ],
      "text/plain": [
       "  [1] \"TP_NOT\"     \"ID_AGRAVO\"  \"DT_NOTIFIC\" \"SEM_NOT\"    \"NU_ANO\"    \n",
       "  [6] \"SG_UF_NOT\"  \"ID_MUNICIP\" \"ID_REGIONA\" \"ID_UNIDADE\" \"DT_SIN_PRI\"\n",
       " [11] \"SEM_PRI\"    \"DT_NASC\"    \"NU_IDADE_N\" \"CS_SEXO\"    \"CS_GESTANT\"\n",
       " [16] \"CS_RACA\"    \"CS_ESCOL_N\" \"SG_UF\"      \"ID_MN_RESI\" \"ID_RG_RESI\"\n",
       " [21] \"ID_PAIS\"    \"DT_INVEST\"  \"ID_OCUPA_N\" \"FEBRE\"      \"MIALGIA\"   \n",
       " [26] \"CEFALEIA\"   \"EXANTEMA\"   \"VOMITO\"     \"NAUSEA\"     \"DOR_COSTAS\"\n",
       " [31] \"CONJUNTVIT\" \"ARTRITE\"    \"ARTRALGIA\"  \"PETEQUIA_N\" \"LEUCOPENIA\"\n",
       " [36] \"LACO\"       \"DOR_RETRO\"  \"DIABETES\"   \"HEMATOLOG\"  \"HEPATOPAT\" \n",
       " [41] \"RENAL\"      \"HIPERTENSA\" \"ACIDO_PEPT\" \"AUTO_IMUNE\" \"DT_CHIK_S1\"\n",
       " [46] \"DT_CHIK_S2\" \"DT_PRNT\"    \"RES_CHIKS1\" \"RES_CHIKS2\" \"RESUL_PRNT\"\n",
       " [51] \"DT_SORO\"    \"RESUL_SORO\" \"DT_NS1\"     \"RESUL_NS1\"  \"DT_VIRAL\"  \n",
       " [56] \"RESUL_VI_N\" \"DT_PCR\"     \"RESUL_PCR_\" \"SOROTIPO\"   \"HISTOPA_N\" \n",
       " [61] \"IMUNOH_N\"   \"HOSPITALIZ\" \"DT_INTERNA\" \"UF\"         \"MUNICIPIO\" \n",
       " [66] \"TPAUTOCTO\"  \"COUFINF\"    \"COPAISINF\"  \"COMUNINF\"   \"CLASSI_FIN\"\n",
       " [71] \"CRITERIO\"   \"DOENCA_TRA\" \"CLINC_CHIK\" \"EVOLUCAO\"   \"DT_OBITO\"  \n",
       " [76] \"DT_ENCERRA\" \"ALRM_HIPOT\" \"ALRM_PLAQ\"  \"ALRM_VOM\"   \"ALRM_SANG\" \n",
       " [81] \"ALRM_HEMAT\" \"ALRM_ABDOM\" \"ALRM_LETAR\" \"ALRM_HEPAT\" \"ALRM_LIQ\"  \n",
       " [86] \"DT_ALRM\"    \"GRAV_PULSO\" \"GRAV_CONV\"  \"GRAV_ENCH\"  \"GRAV_INSUF\"\n",
       " [91] \"GRAV_TAQUI\" \"GRAV_EXTRE\" \"GRAV_HIPOT\" \"GRAV_HEMAT\" \"GRAV_MELEN\"\n",
       " [96] \"GRAV_METRO\" \"GRAV_SANG\"  \"GRAV_AST\"   \"GRAV_MIOC\"  \"GRAV_CONSC\"\n",
       "[101] \"GRAV_ORGAO\" \"DT_GRAV\"    \"MANI_HEMOR\" \"EPISTAXE\"   \"GENGIVO\"   \n",
       "[106] \"METRO\"      \"PETEQUIAS\"  \"HEMATURA\"   \"SANGRAM\"    \"LACO_N\"    \n",
       "[111] \"PLASMATICO\" \"EVIDENCIA\"  \"PLAQ_MENOR\" \"CON_FHD\"    \"COMPLICA\"  \n",
       "[116] \"TP_SISTEMA\" \"NDUPLIC_N\"  \"CS_FLXRET\"  \"FLXRECEBI\"  \"ANO_NASC\"  \n",
       "[121] \"DT_DIGITA\"  \"MIGRADO_W\" "
      ]
     },
     "metadata": {},
     "output_type": "display_data"
    }
   ],
   "source": [
    "#COLUNAS DE DENGUE\n",
    "colnames(dengue)"
   ]
  },
  {
   "cell_type": "code",
   "execution_count": 5,
   "id": "f4ae43ec",
   "metadata": {
    "vscode": {
     "languageId": "r"
    }
   },
   "outputs": [],
   "source": [
    "# Filtrando a base de dados (apenas casos de dengue \"A90\", individuais \"2\" e colunas especificas)\n",
    "DENGUE_19_23_filtrado <- dengue %>%\n",
    "  filter(ID_AGRAVO == \"A90\", TP_NOT == 2)%>%\n",
    "  select(TP_NOT, ID_AGRAVO, DT_NOTIFIC, SEM_PRI, SEM_NOT, \n",
    "          ID_MUNICIP, ID_MN_RESI, SG_UF,SG_UF_NOT, ID_UNIDADE)\n",
    "# lembrar de tornar sexo em categorica depois: mutate(CS_SEXO = as.factor(CS_SEXO))"
   ]
  },
  {
   "cell_type": "code",
   "execution_count": 6,
   "id": "bc8d4342",
   "metadata": {
    "vscode": {
     "languageId": "r"
    }
   },
   "outputs": [
    {
     "data": {
      "text/html": [
       "<table class=\"dataframe\">\n",
       "<caption>A tibble: 6 × 10</caption>\n",
       "<thead>\n",
       "\t<tr><th scope=col>TP_NOT</th><th scope=col>ID_AGRAVO</th><th scope=col>DT_NOTIFIC</th><th scope=col>SEM_PRI</th><th scope=col>SEM_NOT</th><th scope=col>ID_MUNICIP</th><th scope=col>ID_MN_RESI</th><th scope=col>SG_UF</th><th scope=col>SG_UF_NOT</th><th scope=col>ID_UNIDADE</th></tr>\n",
       "\t<tr><th scope=col>&lt;chr&gt;</th><th scope=col>&lt;chr&gt;</th><th scope=col>&lt;chr&gt;</th><th scope=col>&lt;chr&gt;</th><th scope=col>&lt;chr&gt;</th><th scope=col>&lt;chr&gt;</th><th scope=col>&lt;chr&gt;</th><th scope=col>&lt;chr&gt;</th><th scope=col>&lt;chr&gt;</th><th scope=col>&lt;chr&gt;</th></tr>\n",
       "</thead>\n",
       "<tbody>\n",
       "\t<tr><td>2</td><td>A90</td><td>2019-01-04</td><td>201901</td><td>201901</td><td>120020</td><td>120020</td><td>12</td><td>12</td><td>6788637</td></tr>\n",
       "\t<tr><td>2</td><td>A90</td><td>2019-04-10</td><td>201914</td><td>201915</td><td>120020</td><td>120020</td><td>12</td><td>12</td><td>6788637</td></tr>\n",
       "\t<tr><td>2</td><td>A90</td><td>2019-12-14</td><td>201950</td><td>201950</td><td>120020</td><td>120020</td><td>12</td><td>12</td><td>5336171</td></tr>\n",
       "\t<tr><td>2</td><td>A90</td><td>2019-11-19</td><td>201946</td><td>201947</td><td>120020</td><td>120020</td><td>12</td><td>12</td><td>2000202</td></tr>\n",
       "\t<tr><td>2</td><td>A90</td><td>2019-09-23</td><td>201938</td><td>201939</td><td>120020</td><td>120020</td><td>12</td><td>12</td><td>6788637</td></tr>\n",
       "\t<tr><td>2</td><td>A90</td><td>2019-01-05</td><td>201901</td><td>201901</td><td>120033</td><td>120033</td><td>12</td><td>12</td><td>2000083</td></tr>\n",
       "</tbody>\n",
       "</table>\n"
      ],
      "text/latex": [
       "A tibble: 6 × 10\n",
       "\\begin{tabular}{llllllllll}\n",
       " TP\\_NOT & ID\\_AGRAVO & DT\\_NOTIFIC & SEM\\_PRI & SEM\\_NOT & ID\\_MUNICIP & ID\\_MN\\_RESI & SG\\_UF & SG\\_UF\\_NOT & ID\\_UNIDADE\\\\\n",
       " <chr> & <chr> & <chr> & <chr> & <chr> & <chr> & <chr> & <chr> & <chr> & <chr>\\\\\n",
       "\\hline\n",
       "\t 2 & A90 & 2019-01-04 & 201901 & 201901 & 120020 & 120020 & 12 & 12 & 6788637\\\\\n",
       "\t 2 & A90 & 2019-04-10 & 201914 & 201915 & 120020 & 120020 & 12 & 12 & 6788637\\\\\n",
       "\t 2 & A90 & 2019-12-14 & 201950 & 201950 & 120020 & 120020 & 12 & 12 & 5336171\\\\\n",
       "\t 2 & A90 & 2019-11-19 & 201946 & 201947 & 120020 & 120020 & 12 & 12 & 2000202\\\\\n",
       "\t 2 & A90 & 2019-09-23 & 201938 & 201939 & 120020 & 120020 & 12 & 12 & 6788637\\\\\n",
       "\t 2 & A90 & 2019-01-05 & 201901 & 201901 & 120033 & 120033 & 12 & 12 & 2000083\\\\\n",
       "\\end{tabular}\n"
      ],
      "text/markdown": [
       "\n",
       "A tibble: 6 × 10\n",
       "\n",
       "| TP_NOT &lt;chr&gt; | ID_AGRAVO &lt;chr&gt; | DT_NOTIFIC &lt;chr&gt; | SEM_PRI &lt;chr&gt; | SEM_NOT &lt;chr&gt; | ID_MUNICIP &lt;chr&gt; | ID_MN_RESI &lt;chr&gt; | SG_UF &lt;chr&gt; | SG_UF_NOT &lt;chr&gt; | ID_UNIDADE &lt;chr&gt; |\n",
       "|---|---|---|---|---|---|---|---|---|---|\n",
       "| 2 | A90 | 2019-01-04 | 201901 | 201901 | 120020 | 120020 | 12 | 12 | 6788637 |\n",
       "| 2 | A90 | 2019-04-10 | 201914 | 201915 | 120020 | 120020 | 12 | 12 | 6788637 |\n",
       "| 2 | A90 | 2019-12-14 | 201950 | 201950 | 120020 | 120020 | 12 | 12 | 5336171 |\n",
       "| 2 | A90 | 2019-11-19 | 201946 | 201947 | 120020 | 120020 | 12 | 12 | 2000202 |\n",
       "| 2 | A90 | 2019-09-23 | 201938 | 201939 | 120020 | 120020 | 12 | 12 | 6788637 |\n",
       "| 2 | A90 | 2019-01-05 | 201901 | 201901 | 120033 | 120033 | 12 | 12 | 2000083 |\n",
       "\n"
      ],
      "text/plain": [
       "  TP_NOT ID_AGRAVO DT_NOTIFIC SEM_PRI SEM_NOT ID_MUNICIP ID_MN_RESI SG_UF\n",
       "1 2      A90       2019-01-04 201901  201901  120020     120020     12   \n",
       "2 2      A90       2019-04-10 201914  201915  120020     120020     12   \n",
       "3 2      A90       2019-12-14 201950  201950  120020     120020     12   \n",
       "4 2      A90       2019-11-19 201946  201947  120020     120020     12   \n",
       "5 2      A90       2019-09-23 201938  201939  120020     120020     12   \n",
       "6 2      A90       2019-01-05 201901  201901  120033     120033     12   \n",
       "  SG_UF_NOT ID_UNIDADE\n",
       "1 12        6788637   \n",
       "2 12        6788637   \n",
       "3 12        5336171   \n",
       "4 12        2000202   \n",
       "5 12        6788637   \n",
       "6 12        2000083   "
      ]
     },
     "metadata": {},
     "output_type": "display_data"
    }
   ],
   "source": [
    "# Visualizando\n",
    "head(DENGUE_19_23_filtrado)\n",
    "\n",
    "saveRDS(DENGUE_19_23_filtrado, \"C:\\\\Users\\\\felip\\\\Downloads\\\\academia\\\\pesquisa\\\\artigos\\\\previsao_dengue\\\\dados\\\\brutos\\\\1_dengue_casos_19_23\\\\dengue_casos_19_23.rds\")"
   ]
  },
  {
   "cell_type": "code",
   "execution_count": 7,
   "id": "86672a90",
   "metadata": {
    "vscode": {
     "languageId": "r"
    }
   },
   "outputs": [],
   "source": [
    "# Salvar a base em um arquivo CSV\n",
    "write.csv(DENGUE_19_23_filtrado, \"C:\\\\Users\\\\felip\\\\Downloads\\\\academia\\\\pesquisa\\\\artigos\\\\previsao_dengue\\\\dados\\\\brutos\\\\1_dengue_casos_19_23\\\\dengue_casos_19_23.csv\", row.names = FALSE)"
   ]
  },
  {
   "cell_type": "code",
   "execution_count": 8,
   "id": "7f3c2e6a",
   "metadata": {
    "vscode": {
     "languageId": "r"
    }
   },
   "outputs": [],
   "source": [
    "# Salvando o dataframe em um arquivo Excel\n",
    "library(openxlsx)\n",
    "write.xlsx(DENGUE_19_23_filtrado, \"C:\\\\Users\\\\felip\\\\Downloads\\\\academia\\\\pesquisa\\\\artigos\\\\previsao_dengue\\\\dados\\\\brutos\\\\1_dengue_casos_19_23\\\\dengue_casos_19_23.xlsx\")"
   ]
  }
 ],
 "metadata": {
  "kernelspec": {
   "display_name": "R",
   "language": "R",
   "name": "ir"
  },
  "language_info": {
   "codemirror_mode": "r",
   "file_extension": ".r",
   "mimetype": "text/x-r-source",
   "name": "R",
   "pygments_lexer": "r",
   "version": "4.5.1"
  }
 },
 "nbformat": 4,
 "nbformat_minor": 5
}
